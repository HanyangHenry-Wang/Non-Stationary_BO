{
 "cells": [
  {
   "cell_type": "markdown",
   "metadata": {},
   "source": [
    "# import"
   ]
  },
  {
   "cell_type": "code",
   "execution_count": 16,
   "metadata": {},
   "outputs": [],
   "source": [
    "from utlis import TurboState,update_state,get_initial_points\n",
    "import torch"
   ]
  },
  {
   "cell_type": "code",
   "execution_count": 17,
   "metadata": {},
   "outputs": [],
   "source": [
    "import os\n",
    "import math\n",
    "from dataclasses import dataclass\n",
    "\n",
    "import numpy as np\n",
    "import GPy\n",
    "import matplotlib.pyplot as plt\n",
    "import torch\n",
    "from botorch.acquisition import qExpectedImprovement\n",
    "from botorch.fit import fit_gpytorch_mll\n",
    "from botorch.generation import MaxPosteriorSampling\n",
    "from botorch.models import SingleTaskGP\n",
    "from botorch.acquisition import ExpectedImprovement\n",
    "from botorch.optim import optimize_acqf\n",
    "from botorch.utils.transforms import unnormalize\n",
    "from torch.quasirandom import SobolEngine\n",
    "from gpytorch.kernels import MaternKernel, RBFKernel, IndexKernel\n",
    "from botorch.models import FixedNoiseGP, ModelListGP\n",
    "from botorch.utils.transforms import normalize,unnormalize\n",
    "\n",
    "import gpytorch\n",
    "from gpytorch.constraints import Interval\n",
    "from gpytorch.kernels import MaternKernel, ScaleKernel\n",
    "from gpytorch.likelihoods import GaussianLikelihood\n",
    "from gpytorch.mlls import ExactMarginalLogLikelihood\n",
    "from gpytorch.priors import HorseshoePrior\n",
    "from botorch.models import FixedNoiseGP, ModelListGP\n",
    "\n",
    "from botorch import fit_gpytorch_mll\n",
    "from botorch.acquisition.monte_carlo import qNoisyExpectedImprovement\n",
    "from botorch.exceptions import BadInitialCandidatesWarning\n",
    "\n",
    "from botorch.utils.transforms import standardize\n",
    "from botorch.models.transforms.input import Warp\n",
    "from gpytorch.priors.torch_priors import LogNormalPrior\n",
    "\n",
    "import warnings\n",
    "\n",
    "\n",
    "warnings.filterwarnings(\"ignore\", category=BadInitialCandidatesWarning)\n",
    "warnings.filterwarnings(\"ignore\", category=RuntimeWarning)"
   ]
  },
  {
   "cell_type": "code",
   "execution_count": 18,
   "metadata": {},
   "outputs": [],
   "source": [
    "from botorch.test_functions import Ackley\n",
    "from botorch.test_functions import Beale\n",
    "from botorch.test_functions import Branin\n",
    "from botorch.test_functions import EggHolder\n",
    "from botorch.test_functions import Hartmann\n",
    "from botorch.test_functions import Griewank"
   ]
  },
  {
   "cell_type": "markdown",
   "metadata": {},
   "source": [
    "# setting"
   ]
  },
  {
   "cell_type": "code",
   "execution_count": 36,
   "metadata": {},
   "outputs": [],
   "source": [
    "fun = Ackley(dim=2,negate=True)\n",
    "dim = fun.dim\n",
    "# lb = torch.tensor([0])\n",
    "# ub = torch.tensor([1])\n",
    "bounds = fun.bounds\n",
    "\n",
    "batch_size = 1\n",
    "n_init = 5 * dim\n",
    "max_cholesky_size = float(\"inf\")  # Always use Cholesky\n",
    "\n",
    "device = torch.device(\"cuda\" if torch.cuda.is_available() else \"cpu\")\n",
    "dtype = torch.double\n",
    "\n",
    "NUM_RESTARTS = 4*dim \n",
    "RAW_SAMPLES = 100*dim \n",
    "\n",
    "exp_num = 20"
   ]
  },
  {
   "cell_type": "markdown",
   "metadata": {},
   "source": [
    "# Normal BO"
   ]
  },
  {
   "cell_type": "code",
   "execution_count": 37,
   "metadata": {},
   "outputs": [
    {
     "name": "stdout",
     "output_type": "stream",
     "text": [
      "0\n",
      "1\n",
      "2\n",
      "3\n",
      "4\n",
      "5\n",
      "6\n",
      "7\n",
      "8\n",
      "9\n",
      "10\n",
      "11\n",
      "12\n",
      "13\n",
      "14\n",
      "15\n",
      "16\n",
      "17\n",
      "18\n",
      "19\n"
     ]
    }
   ],
   "source": [
    "BO_res = []\n",
    "\n",
    "for N in range(exp_num):\n",
    "    \n",
    "    print(N)\n",
    "    \n",
    "    seed = N\n",
    "    X_BO = get_initial_points(bounds, n_init,seed=seed)\n",
    "    Y_BO = torch.tensor(\n",
    "        [fun(x) for x in X_BO], dtype=dtype, device=device\n",
    "    ).reshape(-1,1)\n",
    "\n",
    "\n",
    "    torch.manual_seed(seed)\n",
    "    \n",
    "    best = Y_BO.max()\n",
    "    best_record = [best]\n",
    "    \n",
    "\n",
    "    for i in range(15*dim):  # Run until TuRBO converges\n",
    "        # Fit a GP model\n",
    "        train_yvar = torch.tensor(10**(-4), device=device, dtype=dtype)\n",
    "        \n",
    "        train_Y = (Y_BO - Y_BO.mean()) / Y_BO.std()\n",
    "        train_X = normalize(X_BO, bounds)\n",
    "        \n",
    "        covar_module = ScaleKernel(MaternKernel())\n",
    "        model = FixedNoiseGP(train_X, train_Y,train_yvar.expand_as(train_Y), covar_module=covar_module)\n",
    "        mll = ExactMarginalLogLikelihood(model.likelihood, model)\n",
    "\n",
    "        fit_gpytorch_mll(mll)\n",
    "\n",
    "        # Create a batch\n",
    "        EI = ExpectedImprovement(model=model, best_f=train_Y.max()) .to(device)   \n",
    "        X_next_normalized, _ = optimize_acqf(\n",
    "            acq_function=EI,\n",
    "            bounds=torch.tensor([0.,1.]*dim).reshape(-1,2).T,  \n",
    "            q=batch_size,\n",
    "            num_restarts=NUM_RESTARTS,\n",
    "            raw_samples=RAW_SAMPLES,\n",
    "            options={},\n",
    "        )\n",
    "        \n",
    "        X_next = unnormalize(X_next_normalized, bounds)\n",
    "        \n",
    "\n",
    "        Y_next = torch.tensor(\n",
    "            [fun(x) for x in X_next], dtype=dtype, device=device\n",
    "        ).reshape(-1,1)\n",
    "\n",
    "        # Append data\n",
    "        X_BO = torch.cat((X_BO, X_next), dim=0)\n",
    "        Y_BO = torch.cat((Y_BO, Y_next), dim=0)\n",
    "        \n",
    "        best_record.append(Y_BO.max())\n",
    "        \n",
    "    BO_res.append(best_record)"
   ]
  },
  {
   "cell_type": "code",
   "execution_count": 31,
   "metadata": {},
   "outputs": [
    {
     "data": {
      "text/plain": [
       "tensor([[-32.7680, -32.7680],\n",
       "        [ 32.7680,  32.7680]])"
      ]
     },
     "execution_count": 31,
     "metadata": {},
     "output_type": "execute_result"
    }
   ],
   "source": [
    "bounds"
   ]
  },
  {
   "cell_type": "markdown",
   "metadata": {},
   "source": [
    "# TuRBO"
   ]
  },
  {
   "cell_type": "code",
   "execution_count": 21,
   "metadata": {},
   "outputs": [
    {
     "name": "stdout",
     "output_type": "stream",
     "text": [
      "0\n",
      "1\n",
      "2\n",
      "3\n",
      "4\n",
      "5\n",
      "6\n",
      "7\n",
      "8\n",
      "9\n",
      "10\n",
      "11\n",
      "12\n",
      "13\n",
      "14\n",
      "15\n",
      "16\n",
      "17\n",
      "18\n",
      "19\n"
     ]
    }
   ],
   "source": [
    "TuRBO_res = []\n",
    "\n",
    "for N in range(exp_num):\n",
    "    \n",
    "    print(N)\n",
    "    \n",
    "    seed = N\n",
    "    X_turbo = get_initial_points(bounds, n_init,seed=seed)\n",
    "    Y_turbo = torch.tensor(\n",
    "        [fun(x) for x in X_turbo], dtype=dtype, device=device\n",
    "    ).reshape(-1,1)\n",
    "\n",
    "    state = TurboState(dim, batch_size=batch_size)\n",
    "\n",
    "\n",
    "    torch.manual_seed(seed)\n",
    "    \n",
    "    best = Y_turbo.max()\n",
    "    best_record = [best]\n",
    "\n",
    "\n",
    "    for i in range(15*dim):  # Run until TuRBO converges\n",
    "        # Fit a GP model\n",
    "        train_yvar = torch.tensor(10**(-4), device=device, dtype=dtype)\n",
    "        \n",
    "        train_Y = (Y_turbo - Y_turbo.mean()) / Y_turbo.std()\n",
    "        train_X = normalize(X_turbo, bounds)\n",
    "        \n",
    "        covar_module =     covar_module = ScaleKernel(  # Use the same lengthscale prior as in the TuRBO paper\n",
    "        MaternKernel(\n",
    "            nu=2.5, ard_num_dims=dim, lengthscale_constraint=Interval(0.005, 4.0)\n",
    "        )\n",
    "        )\n",
    "        model = FixedNoiseGP(train_X, train_Y,train_yvar.expand_as(train_Y), covar_module=covar_module)\n",
    "        mll = ExactMarginalLogLikelihood(model.likelihood, model)\n",
    "\n",
    "        fit_gpytorch_mll(mll)\n",
    "        \n",
    "        \n",
    "        #determine the searching area\n",
    "        x_center = train_X[train_Y.argmax(), :].clone()\n",
    "        weights = model.covar_module.base_kernel.lengthscale.squeeze().detach()\n",
    "        weights = weights / weights.mean()\n",
    "        weights = weights / torch.prod(weights.pow(1.0 / len(weights)))\n",
    "        tr_lb = torch.clamp(x_center - weights * state.length / 2.0, 0.0, 1.0)\n",
    "        tr_ub = torch.clamp(x_center + weights * state.length / 2.0, 0.0, 1.0)\n",
    "\n",
    "        # Create a batch\n",
    "        EI = ExpectedImprovement(model=model, best_f=train_Y.max()) .to(device)   \n",
    "        X_next_normalized, _ = optimize_acqf(\n",
    "            acq_function=EI,\n",
    "            bounds=torch.stack([tr_lb, tr_ub]),          #torch.tensor([0.,1.]*dim).reshape(-1,2).T,  \n",
    "            q=batch_size,\n",
    "            num_restarts=NUM_RESTARTS,\n",
    "            raw_samples=RAW_SAMPLES,\n",
    "            options={},\n",
    "        )\n",
    "        \n",
    "        X_next = unnormalize(X_next_normalized, bounds)\n",
    "        \n",
    "\n",
    "        Y_next = torch.tensor(\n",
    "            [fun(x) for x in X_next], dtype=dtype, device=device\n",
    "        ).reshape(-1,1)\n",
    "\n",
    "        # Update state\n",
    "        state = update_state(state=state, Y_next=Y_next)\n",
    "\n",
    "        # Append data\n",
    "        X_turbo = torch.cat((X_turbo, X_next), dim=0)\n",
    "        Y_turbo = torch.cat((Y_turbo, Y_next), dim=0)\n",
    "        \n",
    "        best_record.append(Y_turbo.max())\n",
    "        \n",
    "    TuRBO_res.append(best_record)"
   ]
  },
  {
   "cell_type": "code",
   "execution_count": 39,
   "metadata": {},
   "outputs": [
    {
     "data": {
      "text/plain": [
       "<matplotlib.collections.PolyCollection at 0x7fb62b251f70>"
      ]
     },
     "execution_count": 39,
     "metadata": {},
     "output_type": "execute_result"
    },
    {
     "data": {
      "image/png": "[encoded data removed]",
      "text/plain": [
       "<Figure size 640x480 with 1 Axes>"
      ]
     },
     "metadata": {},
     "output_type": "display_data"
    }
   ],
   "source": [
    "N = 20\n",
    "total_record = np.array(TuRBO_res)\n",
    "mean = np.mean(total_record,axis=0)\n",
    "std = np.std(total_record,axis=0)\n",
    "iter = np.array(range(mean.shape[0]))\n",
    "plt.plot(mean,linewidth=3,color='blue')\n",
    "plt.fill_between(iter, mean-std/np.sqrt(N), mean+std/np.sqrt(N) ,color='blue',alpha=0.25)\n",
    "\n",
    "total_record = np.array(BO_res)\n",
    "mean = np.mean(total_record,axis=0)\n",
    "std = np.std(total_record,axis=0)\n",
    "iter = np.array(range(mean.shape[0]))\n",
    "plt.plot(mean,linewidth=3,color='black')\n",
    "plt.fill_between(iter, mean-std/np.sqrt(N), mean+std/np.sqrt(N) ,color='black',alpha=0.25)"
   ]
  },
  {
   "cell_type": "markdown",
   "metadata": {},
   "source": [
    "# Warping"
   ]
  },
  {
   "cell_type": "code",
   "execution_count": 56,
   "metadata": {},
   "outputs": [],
   "source": [
    "# import os\n",
    "# import torch\n",
    "\n",
    "\n",
    "# device = torch.device(\"cuda\" if torch.cuda.is_available() else \"cpu\")\n",
    "# dtype = torch.double\n",
    "# SMOKE_TEST = os.environ.get(\"SMOKE_TEST\")"
   ]
  },
  {
   "cell_type": "code",
   "execution_count": 57,
   "metadata": {},
   "outputs": [
    {
     "data": {
      "text/plain": [
       "Text(0, 0.5, 'Transformed Value')"
      ]
     },
     "execution_count": 57,
     "metadata": {},
     "output_type": "execute_result"
    },
    {
     "data": {
      "image/png": "[encoded data removed]",
      "text/plain": [
       "<Figure size 500x500 with 1 Axes>"
      ]
     },
     "metadata": {},
     "output_type": "display_data"
    }
   ],
   "source": [
    "from torch.distributions import Kumaraswamy\n",
    "import matplotlib.pyplot as plt\n",
    "\n",
    "%matplotlib inline\n",
    "\n",
    "\n",
    "fontdict = {\"fontsize\": 15}\n",
    "torch.manual_seed(1)\n",
    "c1 = torch.rand(3, dtype=dtype, device=device) * 3 + 0.1\n",
    "c0 = torch.rand(3, dtype=dtype, device=device) * 3 + 0.1\n",
    "x = torch.linspace(0, 1, 101, dtype=dtype, device=device)\n",
    "k = Kumaraswamy(concentration1=c1, concentration0=c0)\n",
    "k_icdfs = k.icdf(x.unsqueeze(1).expand(101, 3))\n",
    "fig, ax = plt.subplots(1, 1, figsize=(5, 5))\n",
    "\n",
    "for i in range(3):\n",
    "    ax.plot(x.cpu(), k_icdfs[:, i].cpu())\n",
    "ax.set_xlabel(\"Raw Value\", **fontdict)\n",
    "ax.set_ylabel(\"Transformed Value\", **fontdict)"
   ]
  },
  {
   "cell_type": "code",
   "execution_count": 58,
   "metadata": {},
   "outputs": [],
   "source": [
    "from botorch.test_functions import Hartmann\n",
    "\n",
    "neg_hartmann6 = Hartmann(dim=3,negate=True)\n",
    "\n",
    "\n",
    "def obj(X):\n",
    "    X_warp = X #k.icdf(X)\n",
    "    return neg_hartmann6(X_warp)"
   ]
  },
  {
   "cell_type": "code",
   "execution_count": 59,
   "metadata": {},
   "outputs": [],
   "source": [
    "from botorch.models import FixedNoiseGP\n",
    "from gpytorch.mlls.sum_marginal_log_likelihood import ExactMarginalLogLikelihood\n",
    "from botorch.utils.sampling import draw_sobol_samples\n",
    "\n",
    "NOISE_SE = 10**(-2)\n",
    "train_yvar = torch.tensor(NOISE_SE**2, device=device, dtype=dtype)\n",
    "\n",
    "bounds = torch.tensor([[0.0] * 3, [1.0] * 3], device=device, dtype=dtype) #here is bound\n",
    "\n",
    "\n",
    "def generate_initial_data(n=14):\n",
    "    # generate training data\n",
    "    train_x = draw_sobol_samples(\n",
    "        bounds=bounds, n=n, q=1, seed=torch.randint(0, 10000, (1,)).item()\n",
    "    ).squeeze(1)\n",
    "    exact_obj = obj(train_x).unsqueeze(-1)  # add output dimension\n",
    "\n",
    "    best_observed_value = exact_obj.max().item()\n",
    "    train_obj = exact_obj #+ NOISE_SE * torch.randn_like(exact_obj)\n",
    "    return train_x, train_obj, best_observed_value"
   ]
  },
  {
   "cell_type": "code",
   "execution_count": 60,
   "metadata": {},
   "outputs": [],
   "source": [
    "from botorch.utils.transforms import standardize\n",
    "from botorch.models.transforms.input import Warp\n",
    "from gpytorch.priors.torch_priors import LogNormalPrior\n",
    "\n",
    "\n",
    "def initialize_model(train_x, train_obj, use_input_warping):\n",
    "    if use_input_warping:\n",
    "        # initialize input_warping transformation\n",
    "        warp_tf = Warp(\n",
    "            indices=list(range(train_x.shape[-1])),\n",
    "            # use a prior with median at 1.\n",
    "            # when a=1 and b=1, the Kumaraswamy CDF is the identity function\n",
    "            concentration1_prior=LogNormalPrior(0.0, 0.75**0.5),\n",
    "            concentration0_prior=LogNormalPrior(0.0, 0.75**0.5),\n",
    "        )\n",
    "    else:\n",
    "        warp_tf = None\n",
    "    # define the model for objective\n",
    "    model = FixedNoiseGP(\n",
    "        train_x,\n",
    "        standardize(train_obj),\n",
    "        train_yvar.expand_as(train_obj),\n",
    "        input_transform=warp_tf,\n",
    "    ).to(train_x)\n",
    "    mll = ExactMarginalLogLikelihood(model.likelihood, model)\n",
    "    return mll, model"
   ]
  },
  {
   "cell_type": "code",
   "execution_count": null,
   "metadata": {},
   "outputs": [],
   "source": []
  },
  {
   "cell_type": "code",
   "execution_count": 61,
   "metadata": {},
   "outputs": [],
   "source": [
    "from botorch.optim import optimize_acqf\n",
    "\n",
    "\n",
    "num_restarts = 20 if not SMOKE_TEST else 2\n",
    "raw_samples = 512 if not SMOKE_TEST else 32\n",
    "\n",
    "\n",
    "def optimize_acqf_and_get_observation(acq_func):\n",
    "    \"\"\"Optimizes the acquisition function, and returns a new candidate and a noisy observation.\"\"\"\n",
    "    # optimize\n",
    "    candidates, _ = optimize_acqf(\n",
    "        acq_function=acq_func,\n",
    "        bounds=bounds,\n",
    "        q=1,\n",
    "        num_restarts=num_restarts,\n",
    "        raw_samples=raw_samples,  # used for intialization heuristic\n",
    "        options={\"batch_limit\": 5, \"maxiter\": 200},\n",
    "    )\n",
    "    # observe new values\n",
    "    new_x = candidates.detach()\n",
    "    exact_obj = obj(new_x).unsqueeze(-1)  # add output dimension\n",
    "    train_obj = exact_obj  #+ NOISE_SE * torch.randn_like(exact_obj)\n",
    "    return new_x, train_obj\n",
    "\n",
    "\n",
    "def update_random_observations(best_random):\n",
    "    \"\"\"Simulates a quasi-random policy by taking a the current list of best values observed randomly,\n",
    "    drawing a new random point, observing its value, and updating the list.\n",
    "    \"\"\"\n",
    "    rand_x = draw_sobol_samples(bounds=bounds, n=1, q=1).squeeze(1)\n",
    "    next_random_best = obj(rand_x).max().item()\n",
    "    best_random.append(max(best_random[-1], next_random_best))\n",
    "    return best_random"
   ]
  },
  {
   "cell_type": "code",
   "execution_count": 63,
   "metadata": {},
   "outputs": [
    {
     "name": "stdout",
     "output_type": "stream",
     "text": [
      "\n",
      "Trial  1 of 10 ..............................\n",
      "Trial  2 of 10 ..............................\n",
      "Trial  3 of 10 ..............................\n",
      "Trial  4 of 10 ..............................\n",
      "Trial  5 of 10 ..............................\n",
      "Trial  6 of 10 ..............................\n",
      "Trial  7 of 10 ..............................\n",
      "Trial  8 of 10 ..............................\n",
      "Trial  9 of 10 ..............................\n",
      "Trial 10 of 10 .............................."
     ]
    }
   ],
   "source": [
    "from botorch import fit_gpytorch_mll\n",
    "from botorch.acquisition.monte_carlo import qNoisyExpectedImprovement\n",
    "from botorch.exceptions import BadInitialCandidatesWarning\n",
    "\n",
    "import time\n",
    "import warnings\n",
    "\n",
    "\n",
    "warnings.filterwarnings(\"ignore\", category=BadInitialCandidatesWarning)\n",
    "warnings.filterwarnings(\"ignore\", category=RuntimeWarning)\n",
    "\n",
    "\n",
    "N_TRIALS = 10 if not SMOKE_TEST else 2\n",
    "N_BATCH = 50 if not SMOKE_TEST else 5\n",
    "\n",
    "verbose = False\n",
    "\n",
    "best_observed_all_ei, best_observed_all_warp, best_random_all = [], [], []\n",
    "\n",
    "torch.manual_seed(0)\n",
    "\n",
    "\n",
    "# average over multiple trials\n",
    "for trial in range(1, N_TRIALS + 1):\n",
    "    \n",
    "    seed = trial\n",
    "\n",
    "    print(f\"\\nTrial {trial:>2} of {N_TRIALS} \", end=\"\")\n",
    "    best_observed_ei, best_observed_warp, best_random = [], [], []\n",
    "\n",
    "    # call helper functions to generate initial training data and initialize model\n",
    "    train_x_ei = get_initial_points(bounds, n_init,seed=seed)\n",
    "    train_obj_ei = torch.tensor(\n",
    "    [fun(x) for x in X_BO], dtype=dtype, device=device\n",
    "    ).reshape(-1,1)\n",
    "    \n",
    "    train_x_ei, train_obj_ei, best_observed_value_ei = generate_initial_data(n=14)\n",
    "    mll_ei, model_ei = initialize_model(\n",
    "        train_x_ei, train_obj_ei, use_input_warping=False\n",
    "    )\n",
    "\n",
    "    train_x_warp, train_obj_warp, = (\n",
    "        train_x_ei,\n",
    "        train_obj_ei,\n",
    "    )\n",
    "    best_observed_value_warp = best_observed_value_ei\n",
    "    # use input warping\n",
    "    mll_warp, model_warp = initialize_model(\n",
    "        train_x_warp, train_obj_warp, use_input_warping=True\n",
    "    )\n",
    "\n",
    "    best_observed_ei.append(best_observed_value_ei)\n",
    "    best_observed_warp.append(best_observed_value_warp)\n",
    "    best_random.append(best_observed_value_ei)\n",
    "\n",
    "    # run N_BATCH rounds of BayesOpt after the initial random batch\n",
    "    for iteration in range(1, 30 + 1):\n",
    "\n",
    "        t0 = time.monotonic()\n",
    "\n",
    "        # fit the models\n",
    "        fit_gpytorch_mll(mll_ei)\n",
    "        fit_gpytorch_mll(mll_warp)\n",
    "\n",
    "\n",
    "\n",
    "        ei = ExpectedImprovement(model=model_ei, best_f=best_observed_value_ei) .to(device) \n",
    "\n",
    "        ei_warp = ExpectedImprovement(model=model_warp, best_f=best_observed_value_warp) .to(device) \n",
    "\n",
    "\n",
    "\n",
    "        # optimize and get new observation\n",
    "        new_x_ei, new_obj_ei = optimize_acqf_and_get_observation(ei)\n",
    "        new_x_warp, new_obj_warp = optimize_acqf_and_get_observation(ei_warp)\n",
    "\n",
    "        # update training points\n",
    "        train_x_ei = torch.cat([train_x_ei, new_x_ei])\n",
    "        train_obj_ei = torch.cat([train_obj_ei, new_obj_ei])\n",
    "\n",
    "        train_x_warp = torch.cat([train_x_warp, new_x_warp])\n",
    "        train_obj_warp = torch.cat([train_obj_warp, new_obj_warp])\n",
    "\n",
    "        # update progress\n",
    "        best_random = update_random_observations(best_random)\n",
    "        best_value_ei = obj(train_x_ei).max().item()\n",
    "        best_value_warp = obj(train_x_warp).max().item()\n",
    "        best_observed_ei.append(best_value_ei)\n",
    "        best_observed_warp.append(best_value_warp)\n",
    "\n",
    "        mll_ei, model_ei = initialize_model(\n",
    "            train_x_ei, train_obj_ei, use_input_warping=False\n",
    "        )\n",
    "        mll_warp, model_warp = initialize_model(\n",
    "            train_x_warp, train_obj_warp, use_input_warping=True\n",
    "        )\n",
    "\n",
    "        t1 = time.monotonic()\n",
    "\n",
    "        if verbose:\n",
    "            print(\n",
    "                f\"\\nBatch {iteration:>2}: best_value (random, ei, ei_warp) = \"\n",
    "                f\"({max(best_random):>4.2f}, {best_value_ei:>4.2f}, {best_value_warp:>4.2f}), \"\n",
    "                f\"time = {t1-t0:>4.2f}.\",\n",
    "                end=\"\",\n",
    "            )\n",
    "        else:\n",
    "            print(\".\", end=\"\")\n",
    "\n",
    "    best_observed_all_ei.append(best_observed_ei)\n",
    "    best_observed_all_warp.append(best_observed_warp)\n",
    "    best_random_all.append(best_random)"
   ]
  },
  {
   "cell_type": "code",
   "execution_count": 64,
   "metadata": {},
   "outputs": [
    {
     "data": {
      "text/plain": [
       "<matplotlib.legend.Legend at 0x7fb6412a4160>"
      ]
     },
     "execution_count": 64,
     "metadata": {},
     "output_type": "execute_result"
    },
    {
     "data": {
      "image/png": "[encoded data removed]",
      "text/plain": [
       "<Figure size 800x600 with 1 Axes>"
      ]
     },
     "metadata": {},
     "output_type": "display_data"
    }
   ],
   "source": [
    "import numpy as np\n",
    "from matplotlib import pyplot as plt\n",
    "\n",
    "%matplotlib inline\n",
    "\n",
    "\n",
    "def ci(y):\n",
    "    return 1.96 * y.std(axis=0) / np.sqrt(N_TRIALS)\n",
    "\n",
    "\n",
    "GLOBAL_MAXIMUM = neg_hartmann6.optimal_value\n",
    "\n",
    "\n",
    "iters = np.arange(30 + 1)\n",
    "y_ei = np.log10(GLOBAL_MAXIMUM - np.asarray(best_observed_all_ei))\n",
    "y_ei_warp = np.log10(GLOBAL_MAXIMUM - np.asarray(best_observed_all_warp))\n",
    "y_rnd = np.log10(GLOBAL_MAXIMUM - np.asarray(best_random_all))\n",
    "\n",
    "fig, ax = plt.subplots(1, 1, figsize=(8, 6))\n",
    "ax.errorbar(\n",
    "    iters,\n",
    "    y_rnd.mean(axis=0),\n",
    "    yerr=ci(y_rnd),\n",
    "    label=\"Sobol\",\n",
    "    linewidth=1.5,\n",
    "    capsize=3,\n",
    "    alpha=0.6,\n",
    ")\n",
    "ax.errorbar(\n",
    "    iters,\n",
    "    y_ei.mean(axis=0),\n",
    "    yerr=ci(y_ei),\n",
    "    label=\"NEI\",\n",
    "    linewidth=1.5,\n",
    "    capsize=3,\n",
    "    alpha=0.6,\n",
    ")\n",
    "ax.errorbar(\n",
    "    iters,\n",
    "    y_ei_warp.mean(axis=0),\n",
    "    yerr=ci(y_ei_warp),\n",
    "    label=\"NEI + Input Warping\",\n",
    "    linewidth=1.5,\n",
    "    capsize=3,\n",
    "    alpha=0.6,\n",
    ")\n",
    "ax.set(xlabel=\"number of observations (beyond initial points)\", ylabel=\"Log10 Regret\")\n",
    "ax.legend(loc=\"lower left\")"
   ]
  },
  {
   "cell_type": "code",
   "execution_count": null,
   "metadata": {},
   "outputs": [],
   "source": [
    "train_x_ei, train_obj_ei, best_observed_value_ei = generate_initial_data(n=14)"
   ]
  },
  {
   "cell_type": "code",
   "execution_count": 54,
   "metadata": {},
   "outputs": [
    {
     "data": {
      "text/plain": [
       "tensor([-4.3857, -3.9969, -4.0538, -4.6848, -3.4011, -4.1408, -3.3798, -5.1346,\n",
       "        -4.9598, -4.7203, -1.2211, -5.1721, -4.2847, -3.8136, -4.1475, -4.9416,\n",
       "        -4.2434, -4.1523, -3.5204, -3.6027, -4.4470, -4.8112, -3.2085, -3.7862,\n",
       "        -3.7720, -4.0142, -4.9346, -4.3393, -2.6317, -5.0018, -4.2654, -3.0459,\n",
       "        -5.1078, -3.6223, -3.4615, -3.4579, -4.1326, -5.0530, -4.3009, -4.2421,\n",
       "        -1.7681, -1.4711, -5.2500, -3.7891], dtype=torch.float64)"
      ]
     },
     "execution_count": 54,
     "metadata": {},
     "output_type": "execute_result"
    }
   ],
   "source": [
    "fun(train_x_ei)"
   ]
  },
  {
   "cell_type": "code",
   "execution_count": 55,
   "metadata": {},
   "outputs": [
    {
     "data": {
      "text/plain": [
       "tensor([[2.1715e-01],\n",
       "        [5.6692e-01],\n",
       "        [1.2648e+00],\n",
       "        [3.9260e-01],\n",
       "        [4.3557e-01],\n",
       "        [4.8026e-01],\n",
       "        [1.8447e-01],\n",
       "        [2.8742e+00],\n",
       "        [7.7651e-01],\n",
       "        [3.8043e+00],\n",
       "        [7.9439e-02],\n",
       "        [1.2376e+00],\n",
       "        [2.1886e-01],\n",
       "        [5.9073e-01],\n",
       "        [2.6512e+00],\n",
       "        [3.1197e+00],\n",
       "        [1.7510e+00],\n",
       "        [3.7481e+00],\n",
       "        [2.9077e-02],\n",
       "        [3.2332e-03],\n",
       "        [1.3952e+00],\n",
       "        [8.5845e-01],\n",
       "        [2.3127e-01],\n",
       "        [1.1210e-02],\n",
       "        [1.4086e-02],\n",
       "        [5.8671e-04],\n",
       "        [1.3628e+00],\n",
       "        [2.6341e-01],\n",
       "        [4.7693e-02],\n",
       "        [1.9959e+00],\n",
       "        [3.3249e-02],\n",
       "        [1.2159e-01],\n",
       "        [3.5376e+00],\n",
       "        [1.6464e+00],\n",
       "        [1.4550e+00],\n",
       "        [8.6225e-01],\n",
       "        [2.9802e+00],\n",
       "        [2.5122e+00],\n",
       "        [2.8718e+00],\n",
       "        [1.0940e-01],\n",
       "        [4.8502e-01],\n",
       "        [3.7467e-01],\n",
       "        [2.8979e+00],\n",
       "        [1.8348e+00]], dtype=torch.float64)"
      ]
     },
     "execution_count": 55,
     "metadata": {},
     "output_type": "execute_result"
    }
   ],
   "source": [
    "train_obj_ei"
   ]
  },
  {
   "cell_type": "code",
   "execution_count": null,
   "metadata": {},
   "outputs": [],
   "source": []
  },
  {
   "cell_type": "code",
   "execution_count": null,
   "metadata": {},
   "outputs": [],
   "source": []
  },
  {
   "cell_type": "code",
   "execution_count": 8,
   "metadata": {},
   "outputs": [],
   "source": [
    "train_x_temp = get_initial_points(dim, n_init,dtype, device,seed=1)\n",
    "train_obj_temp = obj(train_x_temp,k,fun).reshape(-1,1)"
   ]
  },
  {
   "cell_type": "code",
   "execution_count": 9,
   "metadata": {},
   "outputs": [
    {
     "data": {
      "text/plain": [
       "tensor([[0.2677, 0.3618],\n",
       "        [0.8434, 0.9918],\n",
       "        [0.6499, 0.1275],\n",
       "        [0.2071, 0.5073],\n",
       "        [0.1179, 0.1188],\n",
       "        [0.5520, 0.7464],\n",
       "        [0.9877, 0.3841],\n",
       "        [0.4364, 0.7624],\n",
       "        [0.4843, 0.1961],\n",
       "        [0.9086, 0.5754]], dtype=torch.float64)"
      ]
     },
     "execution_count": 9,
     "metadata": {},
     "output_type": "execute_result"
    }
   ],
   "source": [
    "train_x_temp"
   ]
  },
  {
   "cell_type": "code",
   "execution_count": 10,
   "metadata": {},
   "outputs": [
    {
     "data": {
      "text/plain": [
       "tensor([[-2.8026],\n",
       "        [-4.4995],\n",
       "        [-2.5471],\n",
       "        [-3.2463],\n",
       "        [-0.6051],\n",
       "        [-3.4574],\n",
       "        [-4.5292],\n",
       "        [-2.9110],\n",
       "        [-1.7696],\n",
       "        [-4.5031]], dtype=torch.float64)"
      ]
     },
     "execution_count": 10,
     "metadata": {},
     "output_type": "execute_result"
    }
   ],
   "source": [
    "train_obj_temp"
   ]
  },
  {
   "cell_type": "code",
   "execution_count": 11,
   "metadata": {},
   "outputs": [
    {
     "data": {
      "text/plain": [
       "tensor([-3.2667, -3.9082, -3.4512, -3.5163, -1.0988, -4.5632, -4.3683, -4.3990,\n",
       "        -3.4250, -4.5650], dtype=torch.float64)"
      ]
     },
     "execution_count": 11,
     "metadata": {},
     "output_type": "execute_result"
    }
   ],
   "source": [
    "fun(train_x_temp)"
   ]
  },
  {
   "cell_type": "code",
   "execution_count": 13,
   "metadata": {},
   "outputs": [],
   "source": [
    "train_x_warp, train_obj_warp, = (\n",
    "    train_x_temp,\n",
    "    train_obj_temp,\n",
    ")"
   ]
  },
  {
   "cell_type": "code",
   "execution_count": 15,
   "metadata": {},
   "outputs": [
    {
     "data": {
      "text/plain": [
       "tensor([[-2.8026],\n",
       "        [-4.4995],\n",
       "        [-2.5471],\n",
       "        [-3.2463],\n",
       "        [-0.6051],\n",
       "        [-3.4574],\n",
       "        [-4.5292],\n",
       "        [-2.9110],\n",
       "        [-1.7696],\n",
       "        [-4.5031]], dtype=torch.float64)"
      ]
     },
     "execution_count": 15,
     "metadata": {},
     "output_type": "execute_result"
    }
   ],
   "source": [
    "train_obj_warp"
   ]
  }
 ],
 "metadata": {
  "kernelspec": {
   "display_name": "Python 3.9.7 64-bit ('base': conda)",
   "language": "python",
   "name": "python3"
  },
  "language_info": {
   "codemirror_mode": {
    "name": "ipython",
    "version": 3
   },
   "file_extension": ".py",
   "mimetype": "text/x-python",
   "name": "python",
   "nbconvert_exporter": "python",
   "pygments_lexer": "ipython3",
   "version": "3.9.7"
  },
  "orig_nbformat": 4,
  "vscode": {
   "interpreter": {
    "hash": "11160362a444b9ca14e130b942ce5281a852d750ef716a3a75491b0cc36ac19b"
   }
  }
 },
 "nbformat": 4,
 "nbformat_minor": 2
}
